{
 "cells": [
  {
   "cell_type": "code",
   "execution_count": 5,
   "metadata": {},
   "outputs": [],
   "source": [
    "from get_wsd import get_dotted_wsd, get_wsd"
   ]
  },
  {
   "cell_type": "code",
   "execution_count": 3,
   "metadata": {},
   "outputs": [
    {
     "data": {
      "text/html": [
       "<div>\n",
       "<style scoped>\n",
       "    .dataframe tbody tr th:only-of-type {\n",
       "        vertical-align: middle;\n",
       "    }\n",
       "\n",
       "    .dataframe tbody tr th {\n",
       "        vertical-align: top;\n",
       "    }\n",
       "\n",
       "    .dataframe thead th {\n",
       "        text-align: right;\n",
       "    }\n",
       "</style>\n",
       "<table border=\"1\" class=\"dataframe\">\n",
       "  <thead>\n",
       "    <tr style=\"text-align: right;\">\n",
       "      <th></th>\n",
       "      <th>Lemma</th>\n",
       "      <th>Part-of-Speech</th>\n",
       "      <th>Sense_id</th>\n",
       "      <th>Gloss</th>\n",
       "      <th>Confidence</th>\n",
       "    </tr>\n",
       "  </thead>\n",
       "  <tbody>\n",
       "    <tr>\n",
       "      <th>0</th>\n",
       "      <td>我</td>\n",
       "      <td>Nh</td>\n",
       "      <td>05238701</td>\n",
       "      <td>代指說話者。</td>\n",
       "      <td>0.9986</td>\n",
       "    </tr>\n",
       "    <tr>\n",
       "      <th>1</th>\n",
       "      <td>愛</td>\n",
       "      <td>VL</td>\n",
       "      <td>06708101</td>\n",
       "      <td>對後述對象有很深的感情。</td>\n",
       "      <td>0.5779</td>\n",
       "    </tr>\n",
       "    <tr>\n",
       "      <th>2</th>\n",
       "      <td>你</td>\n",
       "      <td>Nh</td>\n",
       "      <td>05238602</td>\n",
       "      <td>代指單數的聽話者所擁有的。</td>\n",
       "      <td>0.5485</td>\n",
       "    </tr>\n",
       "    <tr>\n",
       "      <th>3</th>\n",
       "      <td>真的</td>\n",
       "      <td>D</td>\n",
       "      <td>05052202</td>\n",
       "      <td>表與事實一樣。</td>\n",
       "      <td>0.5847</td>\n",
       "    </tr>\n",
       "    <tr>\n",
       "      <th>4</th>\n",
       "      <td>嗎</td>\n",
       "      <td>T</td>\n",
       "      <td>07024302</td>\n",
       "      <td>表徵詢對方意願的疑問語氣。</td>\n",
       "      <td>0.3725</td>\n",
       "    </tr>\n",
       "  </tbody>\n",
       "</table>\n",
       "</div>"
      ],
      "text/plain": [
       "  Lemma Part-of-Speech  Sense_id          Gloss Confidence\n",
       "0     我             Nh  05238701         代指說話者。     0.9986\n",
       "1     愛             VL  06708101   對後述對象有很深的感情。     0.5779\n",
       "2     你             Nh  05238602  代指單數的聽話者所擁有的。     0.5485\n",
       "3    真的              D  05052202        表與事實一樣。     0.5847\n",
       "4     嗎              T  07024302  表徵詢對方意願的疑問語氣。     0.3725"
      ]
     },
     "execution_count": 3,
     "metadata": {},
     "output_type": "execute_result"
    }
   ],
   "source": [
    "data = ['我愛你', '真的嗎']\n",
    "\n",
    "get_wsd(data)"
   ]
  }
 ],
 "metadata": {
  "kernelspec": {
   "display_name": "Python 3",
   "language": "python",
   "name": "python3"
  },
  "language_info": {
   "codemirror_mode": {
    "name": "ipython",
    "version": 3
   },
   "file_extension": ".py",
   "mimetype": "text/x-python",
   "name": "python",
   "nbconvert_exporter": "python",
   "pygments_lexer": "ipython3",
   "version": "3.10.11"
  }
 },
 "nbformat": 4,
 "nbformat_minor": 2
}
